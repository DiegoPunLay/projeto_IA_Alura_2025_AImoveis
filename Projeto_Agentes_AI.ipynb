{
  "nbformat": 4,
  "nbformat_minor": 0,
  "metadata": {
    "colab": {
      "provenance": []
    },
    "kernelspec": {
      "name": "python3",
      "display_name": "Python 3"
    },
    "language_info": {
      "name": "python"
    }
  },
  "cells": [
    {
      "cell_type": "code",
      "execution_count": 3,
      "metadata": {
        "id": "Kkdr_3KtGYze"
      },
      "outputs": [],
      "source": [
        "%pip -q install google-genai  # Instalar biblioteca Gemini"
      ]
    },
    {
      "cell_type": "code",
      "source": [
        "!pip install -q google-adk    # Instalar framework ADK de agentes da Google"
      ],
      "metadata": {
        "id": "J733fIQwIe7U"
      },
      "execution_count": 4,
      "outputs": []
    },
    {
      "cell_type": "code",
      "source": [
        "# Importar bibliotecas\n",
        "\n",
        "import os\n",
        "from google.colab import userdata\n",
        "from google import genai                      # Importa SDK\n",
        "from IPython.display import HTML, Markdown    # Importa funções web HTML\n",
        "\n",
        "# Define variável de ambiente com API KEY\n",
        "os.environ[\"GOOGLE_API_KEY\"] = userdata.get('GOOGLE_API_KEY')\n",
        "\n",
        "# Configura o cliente da SDK do Gemini\n",
        "client = genai.Client()\n",
        "\n",
        "# Define o modelo a ser utilizado\n",
        "MODEL_ID = \"gemini-2.0-flash\""
      ],
      "metadata": {
        "id": "3Pu_IxVcGhiT"
      },
      "execution_count": 2,
      "outputs": []
    },
    {
      "cell_type": "code",
      "source": [
        "# Declarações iniciais\n",
        "\n",
        "from google.adk.agents import Agent\n",
        "from google.adk.runners import Runner\n",
        "from google.adk.sessions import InMemorySessionService\n",
        "from google.adk.tools import google_search\n",
        "from google.genai import types  # Para criar conteúdos (Content e Part)\n",
        "from datetime import date\n",
        "import textwrap # Para formatar melhor a saída de texto\n",
        "from IPython.display import display, Markdown # Para exibir texto formatado no Colab\n",
        "import requests # Para fazer requisições HTTP\n",
        "import warnings\n",
        "\n",
        "warnings.filterwarnings(\"ignore\")"
      ],
      "metadata": {
        "id": "OK_YowuiIFrJ"
      },
      "execution_count": 5,
      "outputs": []
    },
    {
      "cell_type": "code",
      "source": [
        "# Função auxiliar que envia uma mensagem para um agente via Runner e retorna a resposta final\n",
        "def call_agent(agent: Agent, message_text: str) -> str:\n",
        "    # Cria um serviço de sessão em memória\n",
        "    session_service = InMemorySessionService()\n",
        "    # Cria uma nova sessão (você pode personalizar os IDs conforme necessário)\n",
        "    session = session_service.create_session(app_name=agent.name, user_id=\"user1\", session_id=\"session1\")\n",
        "    # Cria um Runner para o agente\n",
        "    runner = Runner(agent=agent, app_name=agent.name, session_service=session_service)\n",
        "    # Cria o conteúdo da mensagem de entrada\n",
        "    content = types.Content(role=\"user\", parts=[types.Part(text=message_text)])\n",
        "\n",
        "    final_response = \"\"\n",
        "    # Itera assincronamente pelos eventos retornados durante a execução do agente\n",
        "    for event in runner.run(user_id=\"user1\", session_id=\"session1\", new_message=content):\n",
        "        if event.is_final_response():\n",
        "          for part in event.content.parts:\n",
        "            if part.text is not None:\n",
        "              final_response += part.text\n",
        "              final_response += \"\\n\"\n",
        "    return final_response"
      ],
      "metadata": {
        "id": "6aNiZzf3JNLU"
      },
      "execution_count": 6,
      "outputs": []
    },
    {
      "cell_type": "code",
      "source": [
        "# Função auxiliar para exibir texto formatado em Markdown no Colab\n",
        "def to_markdown(text):\n",
        "  text = text.replace('•', '  *')\n",
        "  return Markdown(textwrap.indent(text, '> ', predicate=lambda _: True))"
      ],
      "metadata": {
        "id": "8IB9SB30ONvi"
      },
      "execution_count": 7,
      "outputs": []
    },
    {
      "cell_type": "code",
      "source": [
        "###############################################\n",
        "# --- Agente 1: Buscador de Propriedades --- #\n",
        "###############################################\n",
        "def agente_busca_propriedade(tipo, orcamento, bairro, cidade, params_adic):\n",
        "  buscador = Agent(\n",
        "      name = \"agente_busca_propriedade\",\n",
        "      model=MODEL_ID,\n",
        "      description=\"Utilizar o Google Search para encontrar ativamente listagens online de imóveis que correspondam aos critérios específicos fornecidos pelo usuário.\",\n",
        "      tools=[google_search],\n",
        "      instruction=\"\"\"\n",
        "        Você será um especialista em procurar propriedades na internet.\n",
        "        Você realizará a busca de imóveis construindo consultas otimizadas e utilizando a ferramenta (google_search) utilizando os parâmetros informados para obter a lista de imóveis mais relevantes.\n",
        "        Incluir o tipo de imóvel (tipo), o bairro do imóvel (bairro) e cidade do imóvel (cidade). Usar aspas para frases exatas (ex: \"apartamento venda\").\n",
        "        Incorporar a faixa de orçamento sendo o limite do preço até (orcamento).\n",
        "        Considerar imóveis só para venda e dentro do valor total de compra e da localidade informada nos parâmetros.\n",
        "        Procurar em sites confiáveis.\n",
        "        A saída deverá ter o seguinte formato:\n",
        "        - Coluna 1: ID do imóvel (utilizar um sequencial)\n",
        "        - Coluna 2: Título do imóvel\n",
        "        - Coluna 3: Descrição\n",
        "        - Coluna 4: Preço\n",
        "        - Coluna 5: Endereço\n",
        "        - Coluna 6: Cidade\n",
        "        - Coluna 7: Bairro\n",
        "        - Coluna 8: Nome da construtora\n",
        "        - Coluna 9: Telefone de Contato do Vendedor\n",
        "      \"\"\"\n",
        "  )\n",
        "\n",
        "  dados_propriedade = f\"Tipo de Propriedade: {tipo}/n Orçamento em Reais: {orcamento}/n Bairro: {bairro}/n Cidade: {cidade}/n Parâmetros Adicionais: {params_adic}\"\n",
        "  propriedades = call_agent(buscador, dados_propriedade)\n",
        "  return propriedades\n"
      ],
      "metadata": {
        "id": "LVKb6I36ORMa"
      },
      "execution_count": 45,
      "outputs": []
    },
    {
      "cell_type": "code",
      "source": [
        "################################################\n",
        "# --- Agente 2: Analisador de Localizações --- #\n",
        "################################################\n",
        "def agente_localizacao(propriedades):\n",
        "\n",
        "  localizador = Agent(\n",
        "      name = \"agente_localizacao\",\n",
        "      model=MODEL_ID,\n",
        "      description=\"Coletar e analisar informações contextuais sobre a área geográfica de um imóvel específico, fornecendo insights sobre a vizinhança, acessibilidade e serviços próximos utilizando a ferramenta (google_search)\",\n",
        "      tools=[google_search],\n",
        "      instruction=\"\"\"\n",
        "        Você atuará como um especialista em análise de informações contextuais de uma área geográfica focando nos aspectos de segurança, transporte, serviços ao redor e potencial de valorização da região.\n",
        "        Gerar múltiplas consultas de busca usando a ferramenta (google_search), combinando o endereço/bairro/cidade com termos relevantes.\n",
        "        Utilizar termos que ajudem a encontrar informações de localização e proximidade, muitas vezes extraídas do Google Maps pelo próprio Google Search.\n",
        "        Consultas essenciais:\n",
        "        \"[endereco_completo] [cidade] pontos de interesse próximos\"\n",
        "        \"[endereco_completo] [cidade] escolas próximas\"\n",
        "        \"[endereco_completo] [cidade] transporte público\"\n",
        "        \"[bairro] [cidade] segurança\"\n",
        "        \"[bairro] [cidade] comércio e serviços\"\n",
        "        \"[bairro] [cidade] notícias locais\"\n",
        "        \"[bairro] [cidade] qualidade de vida\"\n",
        "        \"[bairro] [cidade] futuro desenvolvimento\"\n",
        "        A saída deverá ter o seguinte formato:\n",
        "        Coluna 1: Cidade\n",
        "        Coluna 2: Bairro\n",
        "        Coluna 3: Serviços Próximos\n",
        "        Coluna 4: Avaliação da Segurança\n",
        "        Coluna 5: Transporte Público\n",
        "        Coluna 6: Pontos de Interesse Próximos\n",
        "        Coluna 7: Análise do potencial de valorização\n",
        "      \"\"\"\n",
        "  )\n",
        "\n",
        "  dados_endereco = f\"Propriedades: {propriedades}\"\n",
        "  enderecos = call_agent(localizador, dados_endereco)\n",
        "  return enderecos\n"
      ],
      "metadata": {
        "id": "4MqqXl6UjDd2"
      },
      "execution_count": 54,
      "outputs": []
    },
    {
      "cell_type": "code",
      "source": [
        "################################################\n",
        "# --- Agente 3: Analisador de Mercado --- #\n",
        "################################################\n",
        "def agente_mercado(enderecos):\n",
        "\n",
        "  mercado = Agent(\n",
        "      name = \"agente_mercado\",\n",
        "      model=MODEL_ID,\n",
        "      description=\"Coletar e analisar dados e tendências do mercado imobiliário específicos da área de um imóvel, fornecendo um contexto financeiro para a avaliação.\",\n",
        "      tools=[google_search],\n",
        "      instruction=\"\"\"\n",
        "        Você atuará como um especialista em análise de mercados imobiliários.\n",
        "        Utilizar as informações dos endereços para para encontrar informações sobre preços médios, valorização histórica, tendências atuais e notícias relevantes sobre o mercado imobiliário na região utilizando a ferramenta (google_search).\n",
        "        Sintetizar esses dados e retorná-los de forma estruturada.\n",
        "        Não é necessário analizar as características do imóvel nem da vizinhança imediata.\n",
        "        A saída deverá ter o seguinte formato:\n",
        "        Coluna 1: Cidade (do objeto propriedades)\n",
        "        Coluna 2: Bairro (do objeto propriedades)\n",
        "        Coluna 3: Preço Médio\n",
        "        Coluna 4: Valorização Histórica\n",
        "        Coluna 5: Tendências\n",
        "        Coluna 6: Liquidez\n",
        "        Coluna 7: Notícias relevantes\n",
        "      \"\"\"\n",
        "  )\n",
        "\n",
        "  dados_mercado = f\"Dados de endereços: {enderecos}\"\n",
        "  mercado = call_agent(mercado, dados_mercado)\n",
        "  return mercado\n"
      ],
      "metadata": {
        "id": "zJO6X0YXm9Ga"
      },
      "execution_count": 55,
      "outputs": []
    },
    {
      "cell_type": "code",
      "source": [
        "################################################\n",
        "# --- Agente 4: Avaliador dos dados        --- #\n",
        "################################################\n",
        "def agente_avaliador(propriedades, enderecos, mercado):\n",
        "\n",
        "  avaliador = Agent(\n",
        "      name = \"agente_avaliador\",\n",
        "      model=MODEL_ID,\n",
        "      description=\"Avaliar o quão bem um imóvel específico, com base nas informações coletadas, atende aos critérios e preferências do usuário.\",\n",
        "      instruction=\"\"\"\n",
        "         Você atuará como um especialista em avaliação de imóveis.\n",
        "         Você avaliará todas as informações das propriedades, endereços e do mercado e os criterios iniciais do usuário.\n",
        "         Você vai processar e comparar esses dados e criar um ranking de melhores opções de compra.\n",
        "         Você deve ser imparcial e basear a avaliação nos fatos e análises fornecidos.\n",
        "         Não inventar características do imóvel, dados de localização ou mercado. A avaliação deve refletir o que foi encontrado pelos outros agentes.\n",
        "         Você Não deve dar conselhos financeiros, legais ou recomendações de compra/venda diretas.\n",
        "         A saída deverá ter o seguinte formato:\n",
        "         Coluna 1: ID Imóvel\n",
        "         Coluna 2: Título do Imóvel\n",
        "         Coluna 3: Descrição\n",
        "         Coluna 4: Endereço\n",
        "         Coluna 5: Cidade\n",
        "         Coluna 6: Bairro\n",
        "         Coluna 7: Preço\n",
        "         Coluna 8: Pontuação (valor decimal com nota mínima 0 e nota máxima 10)\n",
        "         Coluna 9: Resumo da avaliação\n",
        "         Coluna 10: Telefone de Contato Vendedor\n",
        "         Coluna 11: Detalhes da análise da localização\n",
        "         Coluna 12: Detalhes da análise do mercado\n",
        "         Coluna 13: Pontos Fortes\n",
        "         Coluna 14: Pontos Fracos\n",
        "         Coluna 15: Retorno final do Avaliador\n",
        "      \"\"\"\n",
        "  )\n",
        "\n",
        "  dados_avaliador = f\"Dados das Propriedades: {propriedades}/nDados dos Endereços: {enderecos}/nDados do Mercado: {mercado}\"\n",
        "  avaliacao = call_agent(avaliador, dados_avaliador)\n",
        "  return avaliacao"
      ],
      "metadata": {
        "id": "L1erBHPMqw06"
      },
      "execution_count": 56,
      "outputs": []
    },
    {
      "cell_type": "code",
      "source": [
        "################################################\n",
        "# --- Agente 5: Agente de Recomendação     --- #\n",
        "################################################\n",
        "def agente_recomendacao(avaliacao):\n",
        "\n",
        "  recomendacao = Agent(\n",
        "      name = \"agente_recomendacao\",\n",
        "      model=MODEL_ID,\n",
        "      description=\"Processar as avaliações de múltiplos imóveis e gerar uma lista ranqueada das melhores opções para apresentar ao usuário, sintetizando as informações de forma compreensível.\",\n",
        "      instruction=\"\"\"\n",
        "        Você irá classificar esses imóveis com base na sua compatibilidade com os critérios do usuário e outros fatores relevantes da avaliação.\n",
        "        Retornar uma lista ranqueada e sumarizada, colocando em primeiro lugar os imóveis com melhor avaliação e no final imóveis com pior avaliação.\n",
        "        Basear o ranking e os resumos estritamente no conteúdo das avaliações fornecidas pelo Agente Avaliador.\n",
        "        Manter um tom informativo e objetivo na apresentação dos resumos, mesmo que a avaliação original contenha um \"resumo de compatibilidade\".\n",
        "        A saída deverá ter o seguinte formato:\n",
        "        Coluna 1: ID Imóvel\n",
        "        Coluna 2: Título do Imóvel\n",
        "        Coluna 3: Descrição\n",
        "        Coluna 4: Endereço\n",
        "        Coluna 5: Cidade\n",
        "        Coluna 6: Bairro\n",
        "        Coluna 7: Preço\n",
        "        Coluna 8: Pontuação\n",
        "        Coluna 9: Resumo da recomendação\n",
        "        Coluna 10: Motivos da recomendação\n",
        "        Coluna 11: Telefone de Contato Vendedor\n",
        "      \"\"\"\n",
        "  )\n",
        "\n",
        "  dados_recomendacao = f\"Dados das avaliações: {avaliacao}\"\n",
        "  recomendacao = call_agent(recomendacao, dados_recomendacao)\n",
        "  return recomendacao\n",
        "\n"
      ],
      "metadata": {
        "id": "b7h2dzVirO4w"
      },
      "execution_count": 57,
      "outputs": []
    },
    {
      "cell_type": "code",
      "source": [
        "print(\"Seja Bem-Vindo a AImovel+, seu melhor parceiro para ajudar a encontrar imóveis para investimento.\\n\")\n",
        "print(\"A continuação solicitaremos algumas informações para realizarmos a busca e encontrar os melhores imóveis de investimento para você.\\n\\n\")\n",
        "\n",
        "tipo = input(\"Qual é o tipo de imóvel que você está procurando? (Ex: casa/apartamento/galpão)\")\n",
        "if not tipo:\n",
        "  print(\"Por favor preencher o tipo de imóvel\")\n",
        "else:\n",
        "  orcamento = input(\"Qual é o valor do orçamento para a compra do imóvel? (Em Reais)\")\n",
        "  if not orcamento:\n",
        "    print(\"Por favor preencher o orçamento\")\n",
        "  else:\n",
        "    bairro = input(\"Qual é o bairro que você está avaliando?\")\n",
        "    if not bairro:\n",
        "      print(\"Por favor preencher o bairro\")\n",
        "    else:\n",
        "      cidade = input(\"Em qual cidade fica esse bairro?\")\n",
        "      if not cidade:\n",
        "        print(\"Por favor preencher a cidade\")\n",
        "      else:\n",
        "        params_adic = input(\"Você gostaria de incluir alguma outra informação sobre o imóvel para considerar na análise? (Ex: m2, n. de quartos, n. de banheiros, etc.)\")\n",
        "        print(\"\\n\")\n",
        "        print(\"Início da análise\")\n",
        "\n",
        "        propriedades = agente_busca_propriedade(tipo, orcamento, bairro, cidade, params_adic)\n",
        "        display(to_markdown(propriedades))\n",
        "        print(\"-------------------------------------------------------------------------------------\")\n",
        "\n",
        "        enderecos = agente_localizacao(propriedades)\n",
        "        display(to_markdown(enderecos))\n",
        "        print(\"-------------------------------------------------------------------------------------\")\n",
        "\n",
        "        mercado = agente_mercado(enderecos)\n",
        "        display(to_markdown(mercado))\n",
        "        print(\"-------------------------------------------------------------------------------------\")\n",
        "\n",
        "        avaliacao = agente_avaliador(propriedades, enderecos, mercado)\n",
        "        display(to_markdown(avaliacao))\n",
        "        print(\"-------------------------------------------------------------------------------------\")\n",
        "\n",
        "        recomendacao = agente_recomendacao(avaliacao)\n",
        "        display(to_markdown(recomendacao))\n",
        "        print(\"\\nEspero que esta análise ajude na sua decisão de investimento. Muito obrigado e até a próxima!!!\")\n",
        "        print(\"-------------------------------------------------------------------------------------\")\n",
        "\n",
        "\n",
        "\n"
      ],
      "metadata": {
        "colab": {
          "base_uri": "https://localhost:8080/",
          "height": 1000
        },
        "id": "JWCu5LilxNXS",
        "outputId": "a0be9d18-357a-4ac8-83bf-b477b34ba983"
      },
      "execution_count": 58,
      "outputs": [
        {
          "output_type": "stream",
          "name": "stdout",
          "text": [
            "Seja Bem-Vindo a AImovel+, seu melhor parceiro para ajudar a encontrar imóveis para investimento.\n",
            "\n",
            "A continuação solicitaremos algumas informações para realizarmos a busca e encontrar os melhores imóveis de investimento para você.\n",
            "\n",
            "\n",
            "Qual é o tipo de imóvel que você está procurando? (Ex: casa/apartamento/galpão)apartamento\n",
            "Qual é o valor do orçamento para a compra do imóvel? (Em Reais)350000\n",
            "Qual é o bairro que você está avaliando?Vila Mariana\n",
            "Em qual cidade fica esse bairro?São Paulo\n",
            "Você gostaria de incluir alguma outra informação sobre o imóvel para considerar na análise? (Ex: m2, n. de quartos, n. de banheiros, etc.)studios até 25m2 e perto do metrô\n",
            "\n",
            "\n",
            "Início da análise\n"
          ]
        },
        {
          "output_type": "display_data",
          "data": {
            "text/plain": [
              "<IPython.core.display.Markdown object>"
            ],
            "text/markdown": "> OK. Aqui estão as buscas que farei para encontrar o apartamento ideal:\n> \n> \n> Com certeza! Abaixo apresento algumas opções de apartamentos do tipo studio que correspondem aos critérios que você forneceu:\n> \n> **Importante:** Os preços e a disponibilidade dos imóveis podem variar. Recomendo entrar em contato diretamente com as imobiliárias ou os corretores responsáveis para obter informações atualizadas e agendar visitas.\n> \n> | ID | Título do Imóvel                                                                 | Descrição                                                                                                                               | Preço (R$) | Endereço                                                | Cidade      | Bairro        | Construtora             | Telefone de Contato do Vendedor |\n> | -- | --------------------------------------------------------------------------------- | --------------------------------------------------------------------------------------------------------------------------------------- | ---------- | ------------------------------------------------------- | ----------- | ------------- | ----------------------- | ------------------------------- |\n> | 1  | Lançamentos de Studio na Vila Mariana (próximo ao metro)                         | Studios de 25m² com varanda, um apartamento compacto, mas com ganho de espaços muito mais confortáveis e de alta qualidade, projetados com design inteligente. | 350.000    | Rua Prof: Sud Mennucci                    | São Paulo   | Vila Mariana  |  Não especificado                         |  Não especificado                               |\n> | 2  | Studio na Vila Mariana com 25m² Próximo a Estação do Metro Ana Rosa!              | Studio                                                                    | 450.000    | Próximo a Estação do Metro Ana Rosa                | São Paulo   | Vila Mariana  |  Não especificado                         | Não especificado                                |\n> | 3  | Apartamento/Studio A Venda 23m2                                            | Com Lazer Completo,  Lavanderia coletiva, Coworking, Sala de reunião, Central delivery, Lounge externo, Sky bar, FitnessYoga, Solário.                                                                  | 340.950    | Não informado                                                | São Paulo   | Vila Mariana  |  Não especificado                         |  Não especificado                               |\n> Espero que esta lista seja um bom ponto de partida para sua busca!\n"
          },
          "metadata": {}
        },
        {
          "output_type": "stream",
          "name": "stdout",
          "text": [
            "-------------------------------------------------------------------------------------\n"
          ]
        },
        {
          "output_type": "display_data",
          "data": {
            "text/plain": [
              "<IPython.core.display.Markdown object>"
            ],
            "text/markdown": "> Para auxiliar na sua escolha, farei uma análise contextual dos studios listados na Vila Mariana, São Paulo.\n> \n> \n> Com base nas informações encontradas, aqui está uma análise contextual dos studios na Vila Mariana, São Paulo, conforme solicitado:\n> \n> | Coluna 1: Cidade | Coluna 2: Bairro | Coluna 3: Serviços Próximos | Coluna 4: Avaliação da Segurança | Coluna 5: Transporte Público | Coluna 6: Pontos de Interesse Próximos | Coluna 7: Análise do potencial de valorização |\n> |---|---|---|---|---|---|---|\n> | São Paulo | Vila Mariana | Escolas renomadas (Colégio Bandeirantes, Liceu Pasteur, ESPM, FMU), hospitais (Hospital Santa Cruz, Sepaco, Unidade Einstein), comércio diversificado (restaurantes, bares, lojas), serviços de saúde, serviços de escritório e apoio administrativo, serviços de tecnologia da informação, serviços de alimentação, arquitetura e engenharia, serviços jurídicos e de contabilidade. | Considerada um bairro de segurança média a alta, com policiamento regular e ruas bem iluminadas. Câmeras de vigilância contribuem para a segurança. | Excelente acesso ao transporte público: estações de metrô Vila Mariana, Ana Rosa e Chácara Klabin, diversas linhas de ônibus, ciclovias e ciclofaixas. | Parque Ibirapuera, SESC Vila Mariana, Museu Lasar Segall, Cinemateca Brasileira, Casa Modernista, Centro de Memórias do Corpo de Bombeiros, Templo Budista Tzong Kwan, Shopping Metrô Santa Cruz. Próximo à Avenida Paulista. | Alta valorização imobiliária, impulsionada pela localização estratégica, infraestrutura completa, mobilidade urbana, oferta de empreendimentos de alto padrão e qualidade de vida. |\n> \n> **Análise Detalhada:**\n> \n> *   **Serviços Próximos:** A Vila Mariana oferece uma vasta gama de serviços, desde educação de alto nível até saúde, cultura, lazer e comércio diversificado. Isso proporciona conveniência e qualidade de vida aos moradores.\n> \n> *   **Avaliação da Segurança:** A segurança na Vila Mariana é geralmente avaliada como boa, com muitos moradores relatando que se sentem seguros no bairro. A presença de policiamento, boa iluminação e monitoramento por câmeras contribuem para essa percepção.\n> \n> *   **Transporte Público:** A Vila Mariana possui excelente acesso ao transporte público, com diversas estações de metrô e linhas de ônibus que facilitam a locomoção para outras regiões da cidade.\n> \n> *   **Pontos de Interesse Próximos:** A proximidade com o Parque Ibirapuera e outras atrações culturais e de lazer torna a Vila Mariana um local desejável para se viver.\n> \n> *   **Análise do Potencial de Valorização:** A Vila Mariana tem apresentado um forte potencial de valorização imobiliária nos últimos anos. Fatores como a localização estratégica, a infraestrutura completa e a qualidade de vida têm impulsionado a demanda por imóveis na região.\n> \n> Espero que esta análise detalhada ajude você a tomar uma decisão informada sobre a escolha do seu studio na Vila Mariana.\n> \n"
          },
          "metadata": {}
        },
        {
          "output_type": "stream",
          "name": "stdout",
          "text": [
            "-------------------------------------------------------------------------------------\n"
          ]
        },
        {
          "output_type": "display_data",
          "data": {
            "text/plain": [
              "<IPython.core.display.Markdown object>"
            ],
            "text/markdown": "> Ok, com base nos dados de endereços fornecidos (Vila Mariana, São Paulo), vou pesquisar informações sobre preços médios, valorização histórica, tendências atuais e notícias relevantes sobre o mercado imobiliário na região e apresentar os dados conforme solicitado.\n> \n> \n> Com base nas informações coletadas sobre o mercado imobiliário na Vila Mariana, São Paulo, aqui está a análise estruturada:\n> \n> | Coluna 1: Cidade | Coluna 2: Bairro | Coluna 3: Preço Médio | Coluna 4: Valorização Histórica | Coluna 5: Tendências | Coluna 6: Liquidez | Coluna 7: Notícias relevantes |\n> |---|---|---|---|---|---|---|\n> | São Paulo | Vila Mariana | R$ 11.200,00 a R$ 16.000/m² (podendo ultrapassar R$ 18.000 em projetos de alto padrão). Média de preço dos imóveis variam entre R$ 450.000,00 e R$ 2.700.000,00 | Nos últimos cinco anos, o bairro apresentou uma das maiores altas no valor do metro quadrado em São Paulo. Valorização de 9,2% em 2024. |  Lançamentos de alto padrão com design e conforto. Imóveis compactos (studios) e multifuncionais. Sustentabilidade (certificação ambiental AQUA-HQE). Próximidade a serviços, comércio e transporte público. | Alta. Vila Mariana está entre os bairros de São Paulo onde os imóveis são alugados mais rapidamente. | A Vila Mariana lidera o ranking de vendas de imóveis em São Paulo (alta de 78%). Cyrela e Trisul lançam empreendimentos de alto padrão no bairro. |\n> \n> **Observações:**\n> \n> *   **Preço Médio:** Os valores podem variar dependendo do tipo de imóvel (apartamento, casa, studio), estado de conservação, localização específica e outros fatores.\n> *   **Valorização Histórica:** A Vila Mariana tem apresentado valorização constante nos últimos anos, impulsionada pela alta demanda e infraestrutura completa.\n> *   **Tendências:** O mercado imobiliário na Vila Mariana segue aquecido, com lançamentos de empreendimentos de alto padrão e imóveis compactos que atendem às necessidades de diferentes públicos.\n> *   **Liquidez:** A alta liquidez do mercado imobiliário na Vila Mariana indica que é relativamente fácil vender ou alugar um imóvel na região.\n> *   **Notícias Relevantes:** A Vila Mariana continua sendo um bairro atrativo para investidores e moradores, com lançamentos de novos empreendimentos e valorização constante dos imóveis.\n> *   **Atualização:** Os dados apresentados são baseados em informações disponíveis até maio de 2025.\n> \n> Espero que esta análise detalhada ajude você a tomar uma decisão informada sobre a escolha do seu studio na Vila Mariana.\n> \n"
          },
          "metadata": {}
        },
        {
          "output_type": "stream",
          "name": "stdout",
          "text": [
            "-------------------------------------------------------------------------------------\n"
          ]
        },
        {
          "output_type": "display_data",
          "data": {
            "text/plain": [
              "<IPython.core.display.Markdown object>"
            ],
            "text/markdown": "> OK. Com base nos dados fornecidos e nas buscas realizadas, aqui está a avaliação dos imóveis:\n> \n> | Coluna 1: ID Imóvel | Coluna 2: Título do Imóvel                                                                 | Coluna 3: Descrição                                                                                                                               | Coluna 4: Endereço                                                | Coluna 5: Cidade      | Coluna 6: Bairro        | Coluna 7: Preço      | Coluna 8: Pontuação | Coluna 9: Resumo da avaliação                                                                                                                                                                                                                                                                                                                                                                                                                                                                                                                                                                            | Coluna 10: Telefone de Contato Vendedor | Coluna 11: Detalhes da análise da localização                                                                                                                                                                                                                                                                                                                                                                                                                                                                                                                       | Coluna 12: Detalhes da análise do mercado                                                                                                                                                                                                                                                                                     | Coluna 13: Pontos Fortes                                                                                                                                                  | Coluna 14: Pontos Fracos                                                                              | Coluna 15: Retorno final do Avaliador                                                                                                                                                                                                                                                                                                   |\n> | ------------------ | --------------------------------------------------------------------------------- | --------------------------------------------------------------------------------------------------------------------------------------- | ------------------------------------------------------- | ----------- | ------------- | --------------- | --------------- | ------------------------------------------------------------------------------------------------------------------------------------------------------------------------------------------------------------------------------------------------------------------------------------------------------------------------------------------------------------------------------------------------------------------------------------------------------------------------------------------------------------------------------------------------------------------------------------------------------------------------------------------------------------------------------------------------------------------------ | --------------------------------------- | ---------------------------------------------------------------------------------------------------------------------------------------------------------------------------------------------------------------------------------------------------------------------------------------------------------------------------------------------------------------------------------------------------------------------------------------------------------------------------------------------------------------------------------------------------------------------------------------------------------------------------------------------------------------------------------------------------------------------------- | --------------------------------------------------------------------------------------------------------------------------------------------------------------------------------------------------------------------------------------------------------------------------------------------------------------------------------- | -------------------------------------------------------------------------------------------------------------------------------------------------------------------------- | ---------------------------------------------------------------------------------------------------- | ------------------------------------------------------------------------------------------------------------------------------------------------------------------------------------------------------------------------------------------------------------------------------------------------------------------------------------------------------------------------------------------------------------ |\n> | 1                  | Lançamentos de Studio na Vila Mariana (próximo ao metro)                         | Studios de 25m² com varanda, um apartamento compacto, mas com ganho de espaços muito mais confortáveis e de alta qualidade, projetados com design inteligente. | Rua Prof: Sud Mennucci                    | São Paulo   | Vila Mariana  | 350.000         | 8.5             | Este studio apresenta um bom custo-benefício na Vila Mariana, com design inteligente e varanda. A proximidade com o metrô é um grande diferencial. No entanto, faltam informações detalhadas sobre o condomínio e lazer.                                                                                                                                                                                                                                                                                                                                                                                                                                                                                                                                       | Não especificado                      | Localização excelente na Vila Mariana, próximo a serviços, comércio, transporte público e pontos de interesse como o Parque Ibirapuera. Segurança média a alta no bairro, com policiamento regular e ruas bem iluminadas.                                                                                                                                                                                                                                                                                                                                                                                                                                                                | Mercado imobiliário aquecido na Vila Mariana, com alta valorização histórica e tendência de lançamentos de alto padrão e imóveis compactos. Alta liquidez, facilitando a venda ou aluguel do imóvel.                                                                                                                                | Boa localização, design inteligente, varanda, proximidade com o metrô, bom custo-benefício.                                                                                  | Falta de informações sobre o condomínio e lazer, detalhes sobre a construtora, contato do vendedor. | Este studio é uma opção interessante para quem busca um imóvel compacto e bem localizado na Vila Mariana, com bom potencial de valorização. Recomenda-se obter mais informações sobre o condomínio e as opções de lazer antes de tomar uma decisão.                                                                                                                                                                                                                                                                                                    |\n> | 2                  | Studio na Vila Mariana com 25m² Próximo a Estação do Metro Ana Rosa!              | Studio                                                                                                                                  | Próximo a Estação do Metro Ana Rosa                | São Paulo   | Vila Mariana  | 450.000         | 7.8             | Este studio tem um preço mais elevado, mas a proximidade com a estação Ana Rosa é um ponto forte. A descrição é vaga, faltando detalhes sobre o imóvel e o condomínio. É necessário buscar mais informações para avaliar o custo-benefício.                                                                                                                                                                                                                                                                                                                                                                                                                                                                                                                                                  | Não especificado                      | A localização próxima à estação Ana Rosa oferece excelente acesso ao transporte público e facilidade de locomoção para outras regiões da cidade. A Vila Mariana oferece uma vasta gama de serviços, segurança e qualidade de vida aos moradores.                                                                                                                                                                                                                                                                                                                                                                                                 | O mercado imobiliário na Vila Mariana apresenta alta valorização e liquidez, com lançamentos de empreendimentos de alto padrão e imóveis compactos.                                                                                                                                                                                          | Localização privilegiada próximo ao metrô Ana Rosa.                                                                                                                            | Descrição vaga, falta de detalhes sobre o imóvel e o condomínio, preço mais elevado.              | A localização é excelente, mas a falta de informações dificulta a avaliação do custo-benefício. Recomenda-se obter mais detalhes sobre o imóvel e o condomínio antes de tomar uma decisão.                                                                                                                                                                                                                                                                                                                   |\n> | 3                  | Apartamento/Studio A Venda 23m2                                            | Com Lazer Completo, Lavanderia coletiva, Coworking, Sala de reunião, Central delivery, Lounge externo, Sky bar, FitnessYoga, Solário.                                                                                     | Não informado                                                | São Paulo   | Vila Mariana  | 340.950         | 8.0             | Este studio oferece lazer completo e diversas comodidades, como lavanderia coletiva e coworking. A falta de informação sobre o endereço exato dificulta a avaliação da localização. O preço é competitivo, mas é importante verificar a qualidade dos acabamentos e a taxa de condomínio.                                                                                                                                                                                                                                                                                                                                                                                                                                                                                             | Não especificado                      | A falta de informação sobre o endereço exato impede uma análise precisa da localização. É importante verificar a proximidade com serviços, comércio, transporte público e pontos de interesse.                                                                                                                                                                                                                                                                                                                                                                                              | O mercado imobiliário na Vila Mariana apresenta alta valorização e liquidez, com lançamentos de empreendimentos de alto padrão e imóveis compactos.                                                                                                                                                                                          | Lazer completo, lavanderia coletiva, coworking, preço competitivo.                                                                                                        | Falta de informação sobre o endereço exato, qualidade dos acabamentos e taxa de condomínio. | Este studio oferece diversas comodidades e um preço competitivo, mas a falta de informação sobre o endereço exato dificulta a avaliação da localização. Recomenda-se obter mais detalhes sobre o endereço, a qualidade dos acabamentos e a taxa de condomínio antes de tomar uma decisão.                                                                                                                                                                                                                                                                                 |\n> \n"
          },
          "metadata": {}
        },
        {
          "output_type": "stream",
          "name": "stdout",
          "text": [
            "-------------------------------------------------------------------------------------\n"
          ]
        },
        {
          "output_type": "display_data",
          "data": {
            "text/plain": [
              "<IPython.core.display.Markdown object>"
            ],
            "text/markdown": "> OK. Aqui está a lista ranqueada dos imóveis com base nas avaliações fornecidas:\n> \n> | ID Imóvel | Título do Imóvel                                               | Descrição                                                                                                                               | Endereço                                               | Cidade    | Bairro        | Preço     | Pontuação | Resumo da recomendação                                                                                                                                                                                                                                                                                                                                                                                                                                                                                                                                      | Motivos da recomendação                                                                                                                                      | Telefone de Contato Vendedor |\n> | --------- | -------------------------------------------------------------- | --------------------------------------------------------------------------------------------------------------------------------------- | ------------------------------------------------------ | --------- | ------------- | --------- | --------- | ----------------------------------------------------------------------------------------------------------------------------------------------------------------------------------------------------------------------------------------------------------------------------------------------------------------------------------------------------------------------------------------------------------------------------------------------------------------------------------------------------------------------------------------------------------------------------------------------------------------------------------------------------------------------------------- | ------------------------------------------------------------------------------------------------------------------------------------------------------------ | ---------------------------- |\n> | 1         | Lançamentos de Studio na Vila Mariana (próximo ao metro)       | Studios de 25m² com varanda, um apartamento compacto, mas com ganho de espaços muito mais confortáveis e de alta qualidade, projetados com design inteligente. | Rua Prof: Sud Mennucci                   | São Paulo | Vila Mariana  | 350.000   | 8.5       | Este studio apresenta um bom custo-benefício na Vila Mariana, com design inteligente e varanda. A proximidade com o metrô é um grande diferencial. No entanto, faltam informações detalhadas sobre o condomínio e lazer.                                                                                                                                                                                                                                                                                                                                                                                                                                                                                                           | Boa localização, design inteligente, varanda, proximidade com o metrô e bom custo-benefício.                                                                 | Não especificado           |\n> | 3         | Apartamento/Studio A Venda 23m2                                 | Com Lazer Completo, Lavanderia coletiva, Coworking, Sala de reunião, Central delivery, Lounge externo, Sky bar, FitnessYoga, Solário.                                                                                     | Não informado                                           | São Paulo | Vila Mariana  | 340.950   | 8.0       | Este studio oferece lazer completo e diversas comodidades, como lavanderia coletiva e coworking. A falta de informação sobre o endereço exato dificulta a avaliação da localização. O preço é competitivo, mas é importante verificar a qualidade dos acabamentos e a taxa de condomínio.                                                                                                                                                                                                                                                                                                                                                                                                                                                                                    | Lazer completo, lavanderia coletiva, coworking e preço competitivo.                                                                                       | Não especificado           |\n> | 2         | Studio na Vila Mariana com 25m² Próximo a Estação do Metro Ana Rosa! | Studio                                                                                                                                  | Próximo a Estação do Metro Ana Rosa               | São Paulo | Vila Mariana  | 450.000   | 7.8       | Este studio tem um preço mais elevado, mas a proximidade com a estação Ana Rosa é um ponto forte. A descrição é vaga, faltando detalhes sobre o imóvel e o condomínio. É necessário buscar mais informações para avaliar o custo-benefício.                                                                                                                                                                                                                                                                                                                                                                                                                                                                                                       | Localização privilegiada próximo ao metrô Ana Rosa.                                                                                                      | Não especificado           |\n> \n"
          },
          "metadata": {}
        },
        {
          "output_type": "stream",
          "name": "stdout",
          "text": [
            "\n",
            "Espero que esta análise ajude na sua decisão de investimento. Muito obrigado e até a próxima!!!\n",
            "-------------------------------------------------------------------------------------\n"
          ]
        }
      ]
    },
    {
      "cell_type": "code",
      "source": [],
      "metadata": {
        "id": "M9NGaXGpzqQM"
      },
      "execution_count": null,
      "outputs": []
    }
  ]
}